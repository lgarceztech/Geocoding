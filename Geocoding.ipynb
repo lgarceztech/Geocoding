{
 "cells": [
  {
   "cell_type": "markdown",
   "id": "cf448e22",
   "metadata": {},
   "source": [
    "# Python Geocoding Using Bing Maps API\n",
    "\n",
    "\n",
    "Geocoding is the process of converting addresses into geographic coordinates. It is a powerful tool with a multitude of applications in research and software development. For example, it can be useful for mapping and for calculating distances between two or more locations. For data analysis, it can be combined with external APIs like FTC's to find the number of locations by FIPS code. This can also be useful in causal inference, for example, as it helps in measuring the intensity of treatment at specific region (e.g. number of schools built per county).\n",
    "\n",
    "Bing Maps offers a user-friendly geocoding API that's highly accessible to both researchers and developers. In the Python example below, we demonstrate how to retrieve coordinates for both structured and unstructured address searches using Duck Donuts locations\n",
    "\n",
    "For this demonstration, we'll fetch the coordinates of various Duck Donuts restaurant locations. I chose Duck Donuts because I believe they offer the finest donuts around.\n"
   ]
  },
  {
   "cell_type": "markdown",
   "id": "9431deab",
   "metadata": {},
   "source": [
    "## Importing libraries:\n",
    "    \n",
    "Before diving into the code, our first step is to import the necessary libraries. Ensure you've installed them beforehand."
   ]
  },
  {
   "cell_type": "code",
   "execution_count": 57,
   "id": "af6ff3e0",
   "metadata": {},
   "outputs": [],
   "source": [
    "from folium.plugins import HeatMap\n",
    "from folium import plugins\n",
    "from geopy.geocoders import Bing\n",
    "from geopy.geocoders import Nominatim\n",
    "from geopy.exc import GeocoderTimedOut\n",
    "import urllib, json, requests\n",
    "import pandas as pd\n",
    "import numpy as np\n",
    "import folium\n",
    "import re"
   ]
  },
  {
   "cell_type": "markdown",
   "id": "75298cd3",
   "metadata": {},
   "source": [
    "## API key\n",
    "\n",
    "For the next step, you'll need an API key from Bing Maps. To obtain one, register on the Bing Maps Portal. While the API can be free for researchers, there's a limit to the number of requests within any 24-hour period. Refer to the portal's official documentation for more details: https://www.bingmapsportal.com/."
   ]
  },
  {
   "cell_type": "code",
   "execution_count": 58,
   "id": "575c86ad",
   "metadata": {},
   "outputs": [],
   "source": [
    "api_key = 'Enter your key here'\n",
    "req_limit = 5000"
   ]
  },
  {
   "cell_type": "code",
   "execution_count": 59,
   "id": "1b472759",
   "metadata": {},
   "outputs": [],
   "source": [
    "geolocator = Bing(api_key,scheme=None,user_agent=None,adapter_factory=None)"
   ]
  },
  {
   "cell_type": "markdown",
   "id": "b4ba2778",
   "metadata": {},
   "source": [
    "## Cleaning the list of locations\n",
    "\n",
    "The list of locations is a string and cannot be immediately converted to a data frame. We will begin by reading it and converting it to a proper data frame. This data frame will store the coordinates. Note that we need to extract the state from the string containing the city and the zip code."
   ]
  },
  {
   "cell_type": "code",
   "execution_count": 60,
   "id": "84755526",
   "metadata": {},
   "outputs": [],
   "source": [
    "with open('C:/GitHub/duck_donuts_loctions.txt', 'r') as file:\n",
    "    locations = file.read()"
   ]
  },
  {
   "cell_type": "code",
   "execution_count": 61,
   "id": "1bfcd780",
   "metadata": {},
   "outputs": [],
   "source": [
    "location_data = []\n",
    "location_list = re.split(';', locations)\n",
    "\n",
    "for location in location_list:\n",
    "    if location:\n",
    "        lines = location.strip().split('\\n')\n",
    "        location_data.append(lines)\n",
    "\n",
    "df = pd.DataFrame(location_data, columns=['name', 'address', 'city','country','contact'])\n",
    "df.drop_duplicates(inplace=True)\n",
    "df.reset_index(drop=True, inplace=True)"
   ]
  },
  {
   "cell_type": "code",
   "execution_count": 62,
   "id": "64f8a5a4",
   "metadata": {},
   "outputs": [],
   "source": [
    "df['state'] = df['city'].str.extract(r',\\s*(.*?)\\s*\\d').squeeze().str.strip()\n",
    "df['lat'] = '.'\n",
    "df['lon'] = '.'"
   ]
  },
  {
   "cell_type": "markdown",
   "id": "0100ebb2",
   "metadata": {},
   "source": [
    "## Requesting coordinates\n",
    "\n",
    "Now we retrieve the coordinates for each address, making sure we are within the request limit."
   ]
  },
  {
   "cell_type": "code",
   "execution_count": 63,
   "id": "4c18789e",
   "metadata": {},
   "outputs": [],
   "source": [
    "if len(location_list) > req_limit:\n",
    "    max_requests = req_limit\n",
    "else:\n",
    "    max_requests = len(location_list)"
   ]
  },
  {
   "cell_type": "code",
   "execution_count": 64,
   "id": "6e53a152",
   "metadata": {},
   "outputs": [],
   "source": [
    "n_requests = 0\n",
    "for index, row in df.iterrows():\n",
    "    try:\n",
    "        structuredQuery = {\n",
    "          \"addressLine\": row['address'],\n",
    "          \"locality\": row['city'],\n",
    "          \"adminDistrict\": row['state'],\n",
    "            \"countryRegion\": row['country']\n",
    "        }\n",
    "        location = geolocator.geocode(structuredQuery,exactly_one=True, user_location=None, culture='US', include_neighborhood=None, include_country_code=True)\n",
    "        n_requests += 1\n",
    "        df.loc[index,'lat'] = location.latitude\n",
    "        df.loc[index,'lon'] = location.longitude\n",
    "    except GeocoderTimedOut:\n",
    "        unstructuredQuery = row['address'] + ' ' + row['city'] + ' ' + row['state'] + ' ' + row['country'] \n",
    "        location = geolocator.geocode(unstructuredQuery,exactly_one=True, user_location=None, culture='US', include_neighborhood=None, include_country_code=True)\n",
    "        n_requests += 1\n",
    "        df.loc[index,'lat'] = location.latitude\n",
    "        df.loc[index,'lon'] = location.longitude\n",
    "    except:\n",
    "        df.loc[index,'lat'] = np.nan\n",
    "        df.loc[index,'lon'] = np.nan\n",
    "        continue\n",
    "    if (n_requests >= max_requests):\n",
    "        break"
   ]
  },
  {
   "cell_type": "code",
   "execution_count": 65,
   "id": "317cd6ef",
   "metadata": {},
   "outputs": [],
   "source": [
    "file_name = 'C:/GitHub/duck_donuts_coordinates.csv'\n",
    "df.to_csv(file_name)"
   ]
  },
  {
   "cell_type": "markdown",
   "id": "bf9c70d2",
   "metadata": {},
   "source": [
    "## Getting FIPS codes\n",
    "\n",
    "Now we will demonstrate how to use coordinates to retrieve FIPS codes using the FCC Area API. For more information, check https://geo.fcc.gov/api/census/#!/block/get_block_find"
   ]
  },
  {
   "cell_type": "code",
   "execution_count": 66,
   "id": "1b126343",
   "metadata": {},
   "outputs": [],
   "source": [
    "df = pd.read_csv('C:/GitHub/duck_donuts_coordinates.csv')\n",
    "for index, row in df.iterrows():\n",
    "    try:\n",
    "        lat = df.loc[index,'lat']\n",
    "        lon = df.loc[index,'lon']\n",
    "        link=\"https://geo.fcc.gov/api/census/block/find?latitude={0}&longitude={1}%20&censusYear=2020&showall=false&format=json\".format(lat,lon)\n",
    "        result = requests.get(link).json()\n",
    "        fips = result['County']['FIPS']\n",
    "    except:\n",
    "        fips = \".\"\n",
    "    df.loc[index,'fips'] = fips"
   ]
  },
  {
   "cell_type": "code",
   "execution_count": 67,
   "id": "4244619e",
   "metadata": {},
   "outputs": [],
   "source": [
    "file_name = 'C:/GitHub/duck_donuts_coordinates.csv'\n",
    "df.to_csv(file_name)"
   ]
  },
  {
   "cell_type": "markdown",
   "id": "1393e2c6",
   "metadata": {},
   "source": [
    "## Testing our data\n",
    "\n",
    "Lastly, we will test the coordinates we obtained by using them to make a heatmap of Duck Donuts location density."
   ]
  },
  {
   "cell_type": "code",
   "execution_count": 68,
   "id": "33f62b0b",
   "metadata": {
    "scrolled": true
   },
   "outputs": [],
   "source": [
    "df = pd.read_csv('C:/GitHub/duck_donuts_coordinates.csv')\n",
    "df = df.dropna(subset=['address','lat','lon'])\n",
    "coords = df[['lat','lon']].values.tolist()"
   ]
  },
  {
   "cell_type": "code",
   "execution_count": 71,
   "id": "78484be7",
   "metadata": {},
   "outputs": [
    {
     "data": {
      "text/html": [
       "<div style=\"width:100%;\"><div style=\"position:relative;width:100%;height:0;padding-bottom:60%;\"><span style=\"color:#565656\">Make this Notebook Trusted to load map: File -> Trust Notebook</span><iframe srcdoc=\"&lt;!DOCTYPE html&gt;\n",
       "&lt;html&gt;\n",
       "&lt;head&gt;\n",
       "    \n",
       "    &lt;meta http-equiv=&quot;content-type&quot; content=&quot;text/html; charset=UTF-8&quot; /&gt;\n",
       "    \n",
       "        &lt;script&gt;\n",
       "            L_NO_TOUCH = false;\n",
       "            L_DISABLE_3D = false;\n",
       "        &lt;/script&gt;\n",
       "    \n",
       "    &lt;style&gt;html, body {width: 100%;height: 100%;margin: 0;padding: 0;}&lt;/style&gt;\n",
       "    &lt;style&gt;#map {position:absolute;top:0;bottom:0;right:0;left:0;}&lt;/style&gt;\n",
       "    &lt;script src=&quot;https://cdn.jsdelivr.net/npm/leaflet@1.9.3/dist/leaflet.js&quot;&gt;&lt;/script&gt;\n",
       "    &lt;script src=&quot;https://code.jquery.com/jquery-1.12.4.min.js&quot;&gt;&lt;/script&gt;\n",
       "    &lt;script src=&quot;https://cdn.jsdelivr.net/npm/bootstrap@5.2.2/dist/js/bootstrap.bundle.min.js&quot;&gt;&lt;/script&gt;\n",
       "    &lt;script src=&quot;https://cdnjs.cloudflare.com/ajax/libs/Leaflet.awesome-markers/2.0.2/leaflet.awesome-markers.js&quot;&gt;&lt;/script&gt;\n",
       "    &lt;link rel=&quot;stylesheet&quot; href=&quot;https://cdn.jsdelivr.net/npm/leaflet@1.9.3/dist/leaflet.css&quot;/&gt;\n",
       "    &lt;link rel=&quot;stylesheet&quot; href=&quot;https://cdn.jsdelivr.net/npm/bootstrap@5.2.2/dist/css/bootstrap.min.css&quot;/&gt;\n",
       "    &lt;link rel=&quot;stylesheet&quot; href=&quot;https://netdna.bootstrapcdn.com/bootstrap/3.0.0/css/bootstrap.min.css&quot;/&gt;\n",
       "    &lt;link rel=&quot;stylesheet&quot; href=&quot;https://cdn.jsdelivr.net/npm/@fortawesome/fontawesome-free@6.2.0/css/all.min.css&quot;/&gt;\n",
       "    &lt;link rel=&quot;stylesheet&quot; href=&quot;https://cdnjs.cloudflare.com/ajax/libs/Leaflet.awesome-markers/2.0.2/leaflet.awesome-markers.css&quot;/&gt;\n",
       "    &lt;link rel=&quot;stylesheet&quot; href=&quot;https://cdn.jsdelivr.net/gh/python-visualization/folium/folium/templates/leaflet.awesome.rotate.min.css&quot;/&gt;\n",
       "    \n",
       "            &lt;meta name=&quot;viewport&quot; content=&quot;width=device-width,\n",
       "                initial-scale=1.0, maximum-scale=1.0, user-scalable=no&quot; /&gt;\n",
       "            &lt;style&gt;\n",
       "                #map_3439d0560a165b662cd0ccbd67ad3ca3 {\n",
       "                    position: relative;\n",
       "                    width: 100.0%;\n",
       "                    height: 100.0%;\n",
       "                    left: 0.0%;\n",
       "                    top: 0.0%;\n",
       "                }\n",
       "                .leaflet-container { font-size: 1rem; }\n",
       "            &lt;/style&gt;\n",
       "        \n",
       "    &lt;script src=&quot;https://cdn.jsdelivr.net/gh/python-visualization/folium@main/folium/templates/leaflet_heat.min.js&quot;&gt;&lt;/script&gt;\n",
       "&lt;/head&gt;\n",
       "&lt;body&gt;\n",
       "    \n",
       "    \n",
       "            &lt;div class=&quot;folium-map&quot; id=&quot;map_3439d0560a165b662cd0ccbd67ad3ca3&quot; &gt;&lt;/div&gt;\n",
       "        \n",
       "&lt;/body&gt;\n",
       "&lt;script&gt;\n",
       "    \n",
       "    \n",
       "            var map_3439d0560a165b662cd0ccbd67ad3ca3 = L.map(\n",
       "                &quot;map_3439d0560a165b662cd0ccbd67ad3ca3&quot;,\n",
       "                {\n",
       "                    center: [39.0, -99.0],\n",
       "                    crs: L.CRS.EPSG3857,\n",
       "                    zoom: 3.5,\n",
       "                    zoomControl: true,\n",
       "                    preferCanvas: false,\n",
       "                }\n",
       "            );\n",
       "\n",
       "            \n",
       "\n",
       "        \n",
       "    \n",
       "            var tile_layer_df80d4201971bb455f94108a1db4f7ca = L.tileLayer(\n",
       "                &quot;https://{s}.tile.openstreetmap.org/{z}/{x}/{y}.png&quot;,\n",
       "                {&quot;attribution&quot;: &quot;Data by \\u0026copy; \\u003ca target=\\&quot;_blank\\&quot; href=\\&quot;http://openstreetmap.org\\&quot;\\u003eOpenStreetMap\\u003c/a\\u003e, under \\u003ca target=\\&quot;_blank\\&quot; href=\\&quot;http://www.openstreetmap.org/copyright\\&quot;\\u003eODbL\\u003c/a\\u003e.&quot;, &quot;detectRetina&quot;: false, &quot;maxNativeZoom&quot;: 18, &quot;maxZoom&quot;: 18, &quot;minZoom&quot;: 0, &quot;noWrap&quot;: false, &quot;opacity&quot;: 1, &quot;subdomains&quot;: &quot;abc&quot;, &quot;tms&quot;: false}\n",
       "            ).addTo(map_3439d0560a165b662cd0ccbd67ad3ca3);\n",
       "        \n",
       "    \n",
       "            var heat_map_0b33d2d27a256b888dd24b09cd5db27f = L.heatLayer(\n",
       "                [[25.2889366, 51.516172], [30.0523777, 31.3906626], [24.74168115, 46.6016602], [43.369482, -79.755426], [34.020315, -84.272569], [33.980028, -84.424629], [33.993152, -80.975127], [32.802065, -80.020003], [32.006857, -81.110891], [32.169701, -80.739671], [33.632273, -78.961482], [33.826429, -78.679422], [30.464604, -84.270764], [30.14046, -81.549565], [29.218655, -81.097293], [28.085505, -82.506193], [27.893165, -82.272604], [27.364023, -82.417191], [26.544982, -81.842181], [26.197179, -81.800491], [26.410368, -80.123914], [25.979692, -80.296268], [35.932572, -84.002904], [35.605363, -82.55356], [35.034353, -85.153909], [36.592588, -82.259938], [34.860393, -82.263122], [36.036967, -86.799248], [35.409124, -80.861505], [35.040726, -80.981276], [38.244461, -85.514016], [35.202656, -80.844343], [38.250291, -85.62893], [35.05305, -80.773563], [36.485701, -80.611278], [36.059691, -80.311319], [36.042426, -79.961583], [36.130399, -79.796343], [39.307165, -84.316798], [37.226272, -79.997253], [39.741667, -84.181974], [35.951615, -78.992935], [37.365122, -79.178425], [39.929909, -82.78704], [35.051244, -78.976108], [35.76525, -78.783994], [35.130534, -78.879063], [40.123777, -83.090895], [35.900604, -78.682598], [40.143983, -82.957801], [38.065398, -78.493048], [35.584268, -77.369911], [40.347211, -80.057404], [41.134139, -81.617715], [39.142848, -78.190709], [38.73389, -77.550868], [41.453817, -81.486049], [38.915992, -77.512695], [37.269845, -76.756342], [38.628264, -77.287162], [38.645534, -90.56617], [38.856527, -77.31407], [38.96759, -77.372213], [38.78002, -77.235169], [36.873417, -76.422938], [38.828412, -77.09071], [38.897739, -77.139555], [39.068069, -77.130208], [36.765858, -76.25111], [36.878766, -76.194178], [36.772204, -76.087148], [36.843755, -76.077935], [36.858853, -75.978838], [36.30369, -75.806359], [36.163312, -75.753396], [42.54789, -83.183706], [41.707295, -88.2040683], [36.099729, -75.712406], [36.031134, -75.673083], [35.93939, -75.617062], [40.793324, -77.861816], [40.8065894, -77.8570532], [41.8933112, -88.3415915], [35.332862, -75.507831], [40.244617, -76.997184], [42.288651, -87.953988], [40.283588, -76.656398], [40.07737, -76.326053], [40.3461167, -75.9897625], [39.903487, -75.563656], [40.165302, -75.481472], [40.083406, -75.405102], [39.09439, -74.724554], [39.154453, -74.690877], [40.587118, -75.558355], [43.369482, -79.755426], [39.890321, -74.926962], [40.231692, -75.136616], [41.241774, -75.844862], [36.283665, -94.148408], [40.167835, -74.895759], [41.363911, -75.679869], [41.001157, -75.274306], [40.456069, -74.394588], [40.59862, -74.484019], [40.626316, -74.306815], [40.400266, -74.117151], [38.908294, -94.609216], [40.958568, -74.073784], [40.740324, -73.784917], [40.743444, -73.660115], [40.956633, -73.736796], [41.041773, -73.797819], [40.724814, -73.549558], [40.822625, -73.209531], [40.86616, -73.047823], [42.752997, -73.764686], [44.924987, -92.955132], [44.854403, -93.243125], [42.157302, -71.201224], [30.465991, -97.597609], [29.55167, -98.572887], [29.503094, -98.699305], [40.406688, -104.975732], [40.563718, -111.972319], [43.468563, -111.980764], [33.248582, -111.598077], [33.246524, -111.842744], [42.588805, -114.481177], [36.114338, -115.172065], [33.246524, -111.842744], [34.111123, -117.531408], [33.676164, -117.855446], [33.775326, -117.937324], [33.693511, -117.992015], [34.01765966, -118.49847415], [43.624313, -116.353894]],\n",
       "                {&quot;blur&quot;: 15, &quot;gradient&quot;: {&quot;0.6&quot;: &quot;blue&quot;, &quot;0.75&quot;: &quot;lime&quot;, &quot;1&quot;: &quot;red&quot;}, &quot;maxZoom&quot;: 18, &quot;minOpacity&quot;: 1, &quot;radius&quot;: 10}\n",
       "            ).addTo(map_3439d0560a165b662cd0ccbd67ad3ca3);\n",
       "        \n",
       "    \n",
       "            var layer_control_44cf5388071b26772dc7d41178db7ee0 = {\n",
       "                base_layers : {\n",
       "                    &quot;openstreetmap&quot; : tile_layer_df80d4201971bb455f94108a1db4f7ca,\n",
       "                },\n",
       "                overlays :  {\n",
       "                    &quot;macro_element_0b33d2d27a256b888dd24b09cd5db27f&quot; : heat_map_0b33d2d27a256b888dd24b09cd5db27f,\n",
       "                },\n",
       "            };\n",
       "            L.control.layers(\n",
       "                layer_control_44cf5388071b26772dc7d41178db7ee0.base_layers,\n",
       "                layer_control_44cf5388071b26772dc7d41178db7ee0.overlays,\n",
       "                {&quot;autoZIndex&quot;: true, &quot;collapsed&quot;: true, &quot;position&quot;: &quot;topright&quot;}\n",
       "            ).addTo(map_3439d0560a165b662cd0ccbd67ad3ca3);\n",
       "        \n",
       "&lt;/script&gt;\n",
       "&lt;/html&gt;\" style=\"position:absolute;width:100%;height:100%;left:0;top:0;border:none !important;\" allowfullscreen webkitallowfullscreen mozallowfullscreen></iframe></div></div>"
      ],
      "text/plain": [
       "<folium.folium.Map at 0x1a56ef10400>"
      ]
     },
     "execution_count": 71,
     "metadata": {},
     "output_type": "execute_result"
    }
   ],
   "source": [
    "heatMap = folium.Map([39,-99], tiles=\"OpenStreetMap\", zoom_start=3.5)\n",
    "plugins.HeatMap(coords, radius = 10, min_opacity = 1, gradient={.6: 'blue', .75: 'lime', 1: 'red'}).add_to(heatMap)\n",
    "folium.LayerControl().add_to(heatMap)\n",
    "heatMap"
   ]
  },
  {
   "cell_type": "markdown",
   "id": "4453d6ad",
   "metadata": {},
   "source": [
    "## Exporting to HTML\n",
    "\n",
    "Now that we have the map, we can export it to HTML."
   ]
  },
  {
   "cell_type": "code",
   "execution_count": 70,
   "id": "98eac2f3",
   "metadata": {},
   "outputs": [],
   "source": [
    "heatMap.save(\"C:/GitHub/heatMapDuck.html\")"
   ]
  }
 ],
 "metadata": {
  "kernelspec": {
   "display_name": "Python 3 (ipykernel)",
   "language": "python",
   "name": "python3"
  },
  "language_info": {
   "codemirror_mode": {
    "name": "ipython",
    "version": 3
   },
   "file_extension": ".py",
   "mimetype": "text/x-python",
   "name": "python",
   "nbconvert_exporter": "python",
   "pygments_lexer": "ipython3",
   "version": "3.10.9"
  }
 },
 "nbformat": 4,
 "nbformat_minor": 5
}
